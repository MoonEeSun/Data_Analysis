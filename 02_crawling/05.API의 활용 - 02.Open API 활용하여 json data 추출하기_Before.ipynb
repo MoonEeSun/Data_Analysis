{
 "cells": [
  {
   "cell_type": "markdown",
   "metadata": {},
   "source": [
    "### 학습목표\n",
    " 1. OPEN API 사용하여 데이터 획득하기"
   ]
  },
  {
   "cell_type": "markdown",
   "metadata": {},
   "source": [
    "#### 공공데이터 포털 OPEN API 사용하기\n",
    "1. 공공데이터 포털 회원가입/로그인(https://www.data.go.kr/)\n",
    "2. API 사용 요청 / 키 발급\n",
    "3. API 문서(specification) 확인\n",
    "4. API 테스트 및 개발"
   ]
  },
  {
   "cell_type": "code",
   "execution_count": 6,
   "metadata": {},
   "outputs": [],
   "source": [
    "import requests"
   ]
  },
  {
   "cell_type": "markdown",
   "metadata": {},
   "source": [
    "#### Endpoint 확인하기 -> 공공데이터 포털 OPEN API 참고문서 안에 예시코드 있음\n",
    " - API가 서비스되는 서버의 IP 혹은 domain 주소"
   ]
  },
  {
   "cell_type": "code",
   "execution_count": 4,
   "metadata": {},
   "outputs": [
    {
     "name": "stdout",
     "output_type": "stream",
     "text": [
      "http://api.visitkorea.or.kr/openapi/service/rest/KorService/areaCode?ServiceKey=XQy%2B9aJVL5W%2FahT1WBHvvu0gKw1oEFyY0EAP0nQfRo3%2FRJN4LOjsGVhJzOgY4H9pp7rwIC7jH1AzLlY8P1bPhQ%3D%3D&MobileOS=ETC&MobileApp=AppTest\n",
      "http://api.visitkorea.or.kr/openapi/service/rest/KorService/areaCode?ServiceKey=XQy%2B9aJVL5W%2FahT1WBHvvu0gKw1oEFyY0EAP0nQfRo3%2FRJN4LOjsGVhJzOgY4H9pp7rwIC7jH1AzLlY8P1bPhQ%3D%3D&MobileOS=ETC&MobileApp=AppTest&_type=json\n"
     ]
    }
   ],
   "source": [
    "# 인증키를 {}로 바꾸고 format함수 사용하여 serviceKey 넣기 => 형식 : XML파일, but 우리는 json 사용\n",
    "endpoint = 'http://api.visitkorea.or.kr/openapi/service/rest/KorService/areaCode?ServiceKey={}&MobileOS=ETC&MobileApp=AppTest'.format(serviceKey)\n",
    "print(endpoint)\n",
    "\n",
    "# json 사용 : 참고문서 안에 매뉴얼 있음\n",
    "endpoint = 'http://api.visitkorea.or.kr/openapi/service/rest/KorService/areaCode?ServiceKey={}&MobileOS=ETC&MobileApp=AppTest&_type=json'.format(serviceKey)\n",
    "print(endpoint)\n"
   ]
  },
  {
   "cell_type": "markdown",
   "metadata": {},
   "source": [
    "#### key 값 확인하기 -> 공공데이터 포털 OPEN API 에서 일반 인증기\n",
    " - 서비스 호출 트래킹할 목적이나 악의적인 사용을 금지할 목적으로 주로 사용\n",
    " - 새로 발급받은 키는 1시간 이후 사용 가능"
   ]
  },
  {
   "cell_type": "code",
   "execution_count": 1,
   "metadata": {},
   "outputs": [],
   "source": [
    "serviceKey = 'XQy%2B9aJVL5W%2FahT1WBHvvu0gKw1oEFyY0EAP0nQfRo3%2FRJN4LOjsGVhJzOgY4H9pp7rwIC7jH1AzLlY8P1bPhQ%3D%3D'"
   ]
  },
  {
   "cell_type": "markdown",
   "metadata": {},
   "source": [
    "#### Parameter 확인하기\n",
    " - API 호출에 필요한 parameter 값 확인 및 구성"
   ]
  },
  {
   "cell_type": "code",
   "execution_count": 17,
   "metadata": {},
   "outputs": [
    {
     "name": "stdout",
     "output_type": "stream",
     "text": [
      "200\n",
      "{\"response\":{\"header\":{\"resultCode\":\"0000\",\"resultMsg\":\"OK\"},\"body\":{\"items\":{\"item\":[{\"code\":1,\"name\":\"서울\",\"rnum\":1},{\"code\":2,\"name\":\"인천\",\"rnum\":2},{\"code\":3,\"name\":\"대전\",\"rnum\":3},{\"code\":4,\"name\":\"대구\",\"rnum\":4},{\"code\":5,\"name\":\"광주\",\"rnum\":5},{\"code\":6,\"name\":\"부산\",\"rnum\":6},{\"code\":7,\"name\":\"울산\",\"rnum\":7},{\"code\":8,\"name\":\"세종특별자치시\",\"rnum\":8},{\"code\":31,\"name\":\"경기도\",\"rnum\":9},{\"code\":32,\"name\":\"강원도\",\"rnum\":10}]},\"numOfRows\":10,\"pageNo\":1,\"totalCount\":17}}}\n"
     ]
    }
   ],
   "source": [
    "endpoint = 'http://api.visitkorea.or.kr/openapi/service/rest/KorService/areaCode?ServiceKey={}&MobileOS=ETC&MobileApp=AppTest&_type=json'.format(serviceKey)\n",
    "\n",
    "resp = requests.get(endpoint)\n",
    "\n",
    "print(resp.status_code)\n",
    "print(resp.text)"
   ]
  },
  {
   "cell_type": "markdown",
   "metadata": {},
   "source": [
    "#### 요청 및 Response 확인\n",
    " - requests 모듈을 활용하여 API 호출\n",
    " - response 확인하여 원하는 정보 추출\n",
    " - json 데이터의 경우, python dictionary로 변경하여 사용가능"
   ]
  },
  {
   "cell_type": "code",
   "execution_count": 20,
   "metadata": {},
   "outputs": [
    {
     "name": "stdout",
     "output_type": "stream",
     "text": [
      "{'response': {'header': {'resultCode': '0000', 'resultMsg': 'OK'}, 'body': {'items': {'item': [{'code': 1, 'name': '서울', 'rnum': 1}, {'code': 2, 'name': '인천', 'rnum': 2}, {'code': 3, 'name': '대전', 'rnum': 3}, {'code': 4, 'name': '대구', 'rnum': 4}, {'code': 5, 'name': '광주', 'rnum': 5}, {'code': 6, 'name': '부산', 'rnum': 6}, {'code': 7, 'name': '울산', 'rnum': 7}, {'code': 8, 'name': '세종특별자치시', 'rnum': 8}, {'code': 31, 'name': '경기도', 'rnum': 9}, {'code': 32, 'name': '강원도', 'rnum': 10}]}, 'numOfRows': 10, 'pageNo': 1, 'totalCount': 17}}}\n",
      "\n",
      "<class 'dict'>\n",
      "\n",
      "{'code': 1, 'name': '서울', 'rnum': 1}\n"
     ]
    }
   ],
   "source": [
    "data = resp.json() # json <=> python dict 와 호환\n",
    "print(data)\n",
    "print()\n",
    "print(type(data)) # dict type \n",
    "print()\n",
    "print(data['response']['body']['items']['item'][0]) # 첫번째 item만 받아오고 싶을 때"
   ]
  },
  {
   "cell_type": "code",
   "execution_count": null,
   "metadata": {},
   "outputs": [],
   "source": []
  }
 ],
 "metadata": {
  "kernelspec": {
   "display_name": "Python 3",
   "language": "python",
   "name": "python3"
  },
  "language_info": {
   "codemirror_mode": {
    "name": "ipython",
    "version": 3
   },
   "file_extension": ".py",
   "mimetype": "text/x-python",
   "name": "python",
   "nbconvert_exporter": "python",
   "pygments_lexer": "ipython3",
   "version": "3.8.5"
  }
 },
 "nbformat": 4,
 "nbformat_minor": 2
}
